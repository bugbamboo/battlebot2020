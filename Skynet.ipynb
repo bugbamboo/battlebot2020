{
 "cells": [
  {
   "cell_type": "code",
   "execution_count": 5,
   "metadata": {
    "scrolled": true
   },
   "outputs": [
    {
     "data": {
      "text/plain": [
       "RandomForestClassifier(bootstrap=True, class_weight=None, criterion='gini',\n",
       "                       max_depth=None, max_features='auto', max_leaf_nodes=None,\n",
       "                       min_impurity_decrease=0.0, min_impurity_split=None,\n",
       "                       min_samples_leaf=1, min_samples_split=2,\n",
       "                       min_weight_fraction_leaf=0.0, n_estimators=500,\n",
       "                       n_jobs=None, oob_score=False, random_state=None,\n",
       "                       verbose=0, warm_start=False)"
      ]
     },
     "execution_count": 5,
     "metadata": {},
     "output_type": "execute_result"
    }
   ],
   "source": [
    "import os\n",
    "import numpy as np\n",
    "import pandas as pd\n",
    "from PIL import Image\n",
    "from numpy import array\n",
    "from sklearn.model_selection import train_test_split\n",
    "from sklearn.metrics import classification_report,confusion_matrix\n",
    "from sklearn.ensemble import RandomForestClassifier\n",
    "\n",
    "\n",
    "lstYes=[]\n",
    "lstNo=[]\n",
    "Names1 = ['yes']\n",
    "Names2=['no']\n",
    "Names3=['new']\n",
    "for name in Names1:\n",
    "    for dirname in os.listdir(name):\n",
    "        path = os.path.join(name,dirname)\n",
    "        img = Image.open(path)\n",
    "        pixel = img.load()\n",
    "        lstYes.append(np.array(img).reshape(1,1470000))\n",
    "    arrYes = np.array(lstYes)\n",
    "for name in Names2:\n",
    "    for dirname in os.listdir(name):\n",
    "        path = os.path.join(name,dirname)\n",
    "        img = Image.open(path)\n",
    "        lstNo.append(np.array(img).reshape(1,1470000))\n",
    "    arrNo = np.array(lstNo)\n",
    "arrYes=arrYes.reshape(140,1470000)\n",
    "arrNo=arrNo.reshape(90,1470000)\n",
    "dfYes = pd.DataFrame(data=arrYes,columns=str(list(range(1,1470001))).split(','))\n",
    "dfYes['isRobot']=np.ones(140)\n",
    "dfNo = pd.DataFrame(data=arrNo,columns=str(list(range(1,1470001))).split(','),index = range(140,230))\n",
    "dfNo['isRobot']=np.zeros(90)\n",
    "dfAll=pd.concat([dfYes,dfNo])\n",
    "x=dfAll.drop('isRobot',axis=1)\n",
    "y=dfAll['isRobot'].apply(int)\n",
    "x_train, x_test, y_train, y_test = train_test_split(x, y, test_size=0.3)\n",
    "rfc = RandomForestClassifier(n_estimators=500)\n",
    "rfc.fit(x_train, y_train)        \n",
    "rfc_pred = rfc.predict(x_test)\n",
    "print(classification_report(y_test,rfc_pred))"
   ]
  },
  {
   "cell_type": "code",
   "execution_count": null,
   "metadata": {},
   "outputs": [],
   "source": [
    "from picamera import PiCamera\n",
    "from time import sleep\n",
    "\n",
    "camera = PiCamera()\n",
    "camera.resolution = (700,700)\n",
    "for i in range(500):\n",
    "    camera.capture('new/image%s.jpg' % i)\n",
    "    for name in Names3:\n",
    "        for dirname in os.listdir(name):\n",
    "            path = os.path.join(name,dirname)\n",
    "            img = Image.open(path)\n",
    "            yeet = np.array(img).reshape(1,1470000)\n",
    "            pic_pred1 = int(rfc.predict(yeet))\n",
    "            \n",
    "    os.remove('new/image%s.jpg' % i)"
   ]
  },
  {
   "cell_type": "code",
   "execution_count": 1,
   "metadata": {},
   "outputs": [
    {
     "name": "stderr",
     "output_type": "stream",
     "text": [
      "C:\\Users\\achyu\\AppData\\Local\\Continuum\\anaconda3\\lib\\site-packages\\sklearn\\svm\\base.py:193: FutureWarning: The default value of gamma will change from 'auto' to 'scale' in version 0.22 to account better for unscaled features. Set gamma explicitly to 'auto' or 'scale' to avoid this warning.\n",
      "  \"avoid this warning.\", FutureWarning)\n"
     ]
    },
    {
     "data": {
      "text/plain": [
       "SVC(C=1.0, cache_size=200, class_weight=None, coef0=0.0,\n",
       "    decision_function_shape='ovr', degree=3, gamma='auto_deprecated',\n",
       "    kernel='rbf', max_iter=-1, probability=False, random_state=None,\n",
       "    shrinking=True, tol=0.001, verbose=False)"
      ]
     },
     "execution_count": 1,
     "metadata": {},
     "output_type": "execute_result"
    }
   ],
   "source": []
  },
  {
   "cell_type": "code",
   "execution_count": 14,
   "metadata": {},
   "outputs": [
    {
     "data": {
      "text/plain": [
       "1"
      ]
     },
     "execution_count": 14,
     "metadata": {},
     "output_type": "execute_result"
    }
   ],
   "source": []
  },
  {
   "cell_type": "code",
   "execution_count": 19,
   "metadata": {},
   "outputs": [],
   "source": []
  },
  {
   "cell_type": "code",
   "execution_count": null,
   "metadata": {},
   "outputs": [],
   "source": []
  }
 ],
 "metadata": {
  "kernelspec": {
   "display_name": "Python 3",
   "language": "python",
   "name": "python3"
  },
  "language_info": {
   "codemirror_mode": {
    "name": "ipython",
    "version": 3
   },
   "file_extension": ".py",
   "mimetype": "text/x-python",
   "name": "python",
   "nbconvert_exporter": "python",
   "pygments_lexer": "ipython3",
   "version": "3.7.3"
  }
 },
 "nbformat": 4,
 "nbformat_minor": 2
}
